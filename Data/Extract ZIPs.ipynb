{
 "cells": [
  {
   "cell_type": "markdown",
   "id": "406171f2",
   "metadata": {},
   "source": [
    "This notebook was used to unpack the ZIP data in the TIFs folder"
   ]
  },
  {
   "cell_type": "code",
   "execution_count": 9,
   "id": "e4c762ac",
   "metadata": {},
   "outputs": [
    {
     "name": "stdout",
     "output_type": "stream",
     "text": [
      "Defaulting to user installation because normal site-packages is not writeable\n",
      "Collecting zipfile38\n",
      "  Downloading zipfile38-0.0.3.tar.gz (22 kB)\n",
      "Building wheels for collected packages: zipfile38\n",
      "  Building wheel for zipfile38 (setup.py) ... \u001b[?25ldone\n",
      "\u001b[?25h  Created wheel for zipfile38: filename=zipfile38-0.0.3-py3-none-any.whl size=22765 sha256=14c1eece1c979e10829a952f68adb8c48a8ab4c4b791435b5615c3060a5cea2a\n",
      "  Stored in directory: /home/jovyan/.cache/pip/wheels/32/e9/b6/cf61548b40caf6cf2a84bb123064993db2215cc8c13f23f58e\n",
      "Successfully built zipfile38\n",
      "Installing collected packages: zipfile38\n",
      "Successfully installed zipfile38-0.0.3\n",
      "\u001b[33mWARNING: You are using pip version 21.1.1; however, version 21.1.2 is available.\n",
      "You should consider upgrading via the '/usr/bin/python3 -m pip install --upgrade pip' command.\u001b[0m\n",
      "Note: you may need to restart the kernel to use updated packages.\n"
     ]
    }
   ],
   "source": [
    "pip install zipfile38"
   ]
  },
  {
   "cell_type": "code",
   "execution_count": 4,
   "id": "fe7272ea",
   "metadata": {},
   "outputs": [],
   "source": [
    "import zipfile38 as zipfile"
   ]
  },
  {
   "cell_type": "code",
   "execution_count": 15,
   "id": "c578b890",
   "metadata": {},
   "outputs": [],
   "source": [
    "#the directory was inputed manually\n",
    "path_to_zip_file_raster = 'ZIPs/4.Stadt_10240.zip'\n",
    "path_to_zip_file_mask = 'ZIPs/4.StadtL_10240.zip'\n"
   ]
  },
  {
   "cell_type": "code",
   "execution_count": 16,
   "id": "a31f77b7",
   "metadata": {},
   "outputs": [],
   "source": [
    "with zipfile.ZipFile(path_to_zip_file_raster, 'r') as zip_ref:\n",
    "    zip_ref.extractall('TIFs')"
   ]
  },
  {
   "cell_type": "code",
   "execution_count": null,
   "id": "70e20b36",
   "metadata": {},
   "outputs": [],
   "source": [
    "with zipfile.ZipFile(path_to_zip_file_mask, 'r') as zip_ref:\n",
    "    zip_ref.extractall('TIFs')"
   ]
  }
 ],
 "metadata": {
  "kernelspec": {
   "display_name": "Python 3",
   "language": "python",
   "name": "python3"
  },
  "language_info": {
   "codemirror_mode": {
    "name": "ipython",
    "version": 3
   },
   "file_extension": ".py",
   "mimetype": "text/x-python",
   "name": "python",
   "nbconvert_exporter": "python",
   "pygments_lexer": "ipython3",
   "version": "3.6.9"
  }
 },
 "nbformat": 4,
 "nbformat_minor": 5
}
