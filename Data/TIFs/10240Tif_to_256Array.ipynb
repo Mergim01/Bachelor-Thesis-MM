{
 "cells": [
  {
   "cell_type": "markdown",
   "id": "1657bd2d",
   "metadata": {},
   "source": [
    "this notebook is used to transform the 10240x10240 TIFs in 256x256 numpys per city each"
   ]
  },
  {
   "cell_type": "code",
   "execution_count": 11,
   "id": "ceccca7a",
   "metadata": {},
   "outputs": [],
   "source": [
    "import numpy  as np\n",
    "from PIL import Image\n",
    "import matplotlib.pyplot as plt\n",
    "import tensorflow as tf\n",
    "from tensorflow import keras\n",
    "from osgeo import gdal\n",
    "from PIL import Image\n",
    "import rasterio\n",
    "from rasterio import plot\n",
    "from zipfile import ZipFile\n",
    "import os\n",
    "import random"
   ]
  },
  {
   "cell_type": "code",
   "execution_count": 12,
   "id": "478e13e8",
   "metadata": {},
   "outputs": [],
   "source": [
    "def create_256_arrays_raster(raster_data):\n",
    "    band_1 = raster_data.GetRasterBand(1).ReadAsArray()\n",
    "    band_2 = raster_data.GetRasterBand(2).ReadAsArray()\n",
    "    band_3 = raster_data.GetRasterBand(3).ReadAsArray()\n",
    "    i = 0\n",
    "    j = 0\n",
    "    \n",
    "    i_pixel = 0\n",
    "    \n",
    "    länge = band_1.shape[0]\n",
    "    bilder = []\n",
    "    overlap = 256\n",
    "    while ((i_pixel+256) <= länge):\n",
    "        j = 0\n",
    "        j_pixel = 0\n",
    "        höhe = band_1.shape[1]\n",
    "        while ((j_pixel+256) <= höhe):\n",
    "            bild1 = band_1[i_pixel:(i_pixel)+256, j_pixel:(j_pixel)+256]\n",
    "            bild2 = band_2[i_pixel:(i_pixel)+256, j_pixel:(j_pixel)+256]\n",
    "            bild3 = band_3[i_pixel:(i_pixel)+256, j_pixel:(j_pixel)+256]\n",
    "            \n",
    "            bild1 = bild1.reshape(256,256,1)\n",
    "            bild2 = bild2.reshape(256,256,1)\n",
    "            bild3 = bild3.reshape(256,256,1) \n",
    "            bild = np.concatenate((bild1, bild2), axis=2)\n",
    "            bild = np.concatenate((bild, bild3), axis=2)\n",
    "            \n",
    "            bilder.append(bild)\n",
    "            j = j+1\n",
    "            j_pixel = j*overlap\n",
    "        i = i+1\n",
    "        i_pixel = i*overlap\n",
    "        \n",
    "    bilder = np.array(bilder)\n",
    "    return bilder"
   ]
  },
  {
   "cell_type": "code",
   "execution_count": 13,
   "id": "4b8f9766",
   "metadata": {},
   "outputs": [],
   "source": [
    "def create_256_arrays_label(label_data):\n",
    "    band_l = label_data.GetRasterBand(1).ReadAsArray()\n",
    "    i = 0\n",
    "    j = 0\n",
    "    i_pixel = 0\n",
    "    länge = band_l.shape[0]\n",
    "    bilder = []\n",
    "    overlap = 256\n",
    "    while ((i_pixel+256) <= länge):\n",
    "        j = 0\n",
    "        j_pixel = 0\n",
    "        höhe = band_l.shape[1]\n",
    "        while ((j_pixel+256) <= höhe):\n",
    "            bildl = band_l[i_pixel:(i_pixel)+256, j_pixel:(j_pixel)+256]\n",
    "            bilder.append(bildl)\n",
    "            j = j+1\n",
    "            j_pixel = j*overlap\n",
    "        i = i+1\n",
    "        i_pixel = i*overlap\n",
    "        \n",
    "    bilder = np.array(bilder)\n",
    "    return bilder"
   ]
  },
  {
   "cell_type": "code",
   "execution_count": 14,
   "id": "be07156f",
   "metadata": {},
   "outputs": [],
   "source": [
    "def file_length(file):\n",
    "    file_length = 0\n",
    "    start_path = file\n",
    "    for path, dirs, files in os.walk(start_path):\n",
    "        for f in files:\n",
    "            fp = os.path.join(path, f)\n",
    "            file_length += 1\n",
    "            #total_size += os.path.getsize(fp)\n",
    "    return file_length"
   ]
  },
  {
   "cell_type": "code",
   "execution_count": 16,
   "id": "470c56c0",
   "metadata": {},
   "outputs": [],
   "source": [
    "def all_pictures_in_256_tiles_overlap(raster_file, label_file):\n",
    "    flength = file_length(label_file)\n",
    "    X = []\n",
    "    y = []\n",
    "    first = True\n",
    "    for i in range(0,flength-1):\n",
    "        raster_name = str(raster_file + '.' + str(i) + '.tif')\n",
    "        label_name  = str( label_file + '.' + str(i) + '.tif') \n",
    "        \n",
    "        raster_path = os.path.join(raster_file, raster_name)\n",
    "        lable_path = os.path.join(label_file, label_name)\n",
    "        \n",
    "        raster_data = gdal.Open(raster_path)\n",
    "        label_data = gdal.Open(lable_path)\n",
    "        band_l = label_data.GetRasterBand(1).ReadAsArray()\n",
    "        width, height = band_l.shape\n",
    "        z = np.amax(band_l)\n",
    "        if(width == 10240 and height == 10240):\n",
    "                if(z != 0):\n",
    "                    raster = create_256_arrays_raster(raster_data)\n",
    "                    label =  create_256_arrays_label(label_data)\n",
    "                    if first:\n",
    "                        start = raster\n",
    "                        startl = label\n",
    "                        first = False\n",
    "                    else:\n",
    "                        start = np.concatenate((start, raster), axis=0)\n",
    "                        startl = np.concatenate((startl, label), axis=0)\n",
    "                    print(\"Raster \" + str(i) + \" durch\")\n",
    "    return start, startl"
   ]
  },
  {
   "cell_type": "code",
   "execution_count": 24,
   "id": "dac48707",
   "metadata": {},
   "outputs": [],
   "source": [
    "#X = ceate_256arrays_with_overlap_raster(raster_data)\n",
    "#y = ceate_256arrays_with_overlap_label(label_data)\n",
    "raster_file = '4.Stadt_10240'\n",
    "label_file  = '4.StadtL_10240'"
   ]
  },
  {
   "cell_type": "code",
   "execution_count": 25,
   "id": "e674d611",
   "metadata": {},
   "outputs": [
    {
     "name": "stdout",
     "output_type": "stream",
     "text": [
      "Raster 0 durch\n",
      "Raster 2 durch\n",
      "Raster 7 durch\n",
      "Raster 8 durch\n",
      "Raster 11 durch\n",
      "Raster 12 durch\n",
      "Raster 13 durch\n",
      "Raster 15 durch\n",
      "Raster 16 durch\n",
      "Raster 17 durch\n",
      "Raster 18 durch\n"
     ]
    }
   ],
   "source": [
    "X, y = all_pictures_in_256_tiles_overlap(raster_file, label_file)"
   ]
  },
  {
   "cell_type": "code",
   "execution_count": null,
   "id": "999d9a9e",
   "metadata": {},
   "outputs": [],
   "source": [
    "# def normalize(X,y): \n",
    "#     X = X / 255\n",
    "#     length = y.shape[0]\n",
    "#     y = y.reshape(length, 256, 256, 1)\n",
    "#     return X,y\n",
    "# X,y = normalize(X,y)"
   ]
  },
  {
   "cell_type": "code",
   "execution_count": 26,
   "id": "a82be167",
   "metadata": {},
   "outputs": [],
   "source": [
    "np.save('np/X_Stadt4', X)\n",
    "np.save('np/y_Stadt4', y)"
   ]
  }
 ],
 "metadata": {
  "kernelspec": {
   "display_name": "Python 3",
   "language": "python",
   "name": "python3"
  },
  "language_info": {
   "codemirror_mode": {
    "name": "ipython",
    "version": 3
   },
   "file_extension": ".py",
   "mimetype": "text/x-python",
   "name": "python",
   "nbconvert_exporter": "python",
   "pygments_lexer": "ipython3",
   "version": "3.6.9"
  }
 },
 "nbformat": 4,
 "nbformat_minor": 5
}
