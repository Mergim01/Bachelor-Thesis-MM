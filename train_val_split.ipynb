{
 "cells": [
  {
   "cell_type": "markdown",
   "id": "b9ce2f16",
   "metadata": {},
   "source": [
    "this notebook was used to splot the data set in a training and a validation set"
   ]
  },
  {
   "cell_type": "code",
   "execution_count": 3,
   "id": "1c839f26",
   "metadata": {},
   "outputs": [],
   "source": [
    "import numpy  as np\n",
    "from PIL import Image\n",
    "import matplotlib.pyplot as plt\n",
    "import os"
   ]
  },
  {
   "cell_type": "code",
   "execution_count": 5,
   "id": "d231832e",
   "metadata": {},
   "outputs": [],
   "source": [
    "np.random.seed(42)"
   ]
  },
  {
   "cell_type": "code",
   "execution_count": 17,
   "id": "b20591d0",
   "metadata": {},
   "outputs": [],
   "source": [
    "def shuffle_stets(X,y):\n",
    "    ind = np.arange(X.shape[0]) # Create Index\n",
    "    np.random.shuffle(ind) # Shuffle Index\n",
    "    X = X[ind,] # Shuffle X\n",
    "    y = y[ind,] # Shuffle y\n",
    "    return X,y"
   ]
  },
  {
   "cell_type": "code",
   "execution_count": 8,
   "id": "5281bd30",
   "metadata": {},
   "outputs": [],
   "source": [
    "def splitt_Stadt(X,y):\n",
    "    train_split = int(0.9*X.shape[0])\n",
    "    all_frames_X = X\n",
    "    all_frames_y = y\n",
    "\n",
    "    X_train = all_frames_X[:train_split]\n",
    "    X_val = all_frames_X[train_split:]\n",
    "\n",
    "\n",
    "    y_train = all_frames_y[:train_split]\n",
    "    y_val = all_frames_y[train_split:]\n",
    "    return (X_train, y_train, X_val, y_val)"
   ]
  },
  {
   "cell_type": "code",
   "execution_count": 29,
   "id": "a8c16f26",
   "metadata": {},
   "outputs": [],
   "source": [
    "raster_path = 'np/X_Stadt4.npy'\n",
    "mask_path   = 'np/y_Stadt4.npy'"
   ]
  },
  {
   "cell_type": "code",
   "execution_count": 30,
   "id": "7457493a",
   "metadata": {},
   "outputs": [],
   "source": [
    "X = np.load(raster_path)\n",
    "y = np.load(mask_path)"
   ]
  },
  {
   "cell_type": "code",
   "execution_count": 31,
   "id": "4079e3a1",
   "metadata": {},
   "outputs": [],
   "source": [
    "X,y = shuffle_stets(X,y)"
   ]
  },
  {
   "cell_type": "code",
   "execution_count": 32,
   "id": "3eef5edc",
   "metadata": {},
   "outputs": [],
   "source": [
    "X_train, y_train, X_val, y_val = splitt_Stadt(X,y)"
   ]
  },
  {
   "cell_type": "code",
   "execution_count": 33,
   "id": "b743b89f",
   "metadata": {},
   "outputs": [],
   "source": [
    "np.save('train_np/X_4.Stadt.npy',X_train)\n",
    "np.save('train_np/y_4.Stadt.npy',y_train)\n",
    "np.save('validation_np/X_4.Stadt.npy',X_val)\n",
    "np.save('validation_np/y_4.Stadt.npy',y_val)"
   ]
  },
  {
   "cell_type": "code",
   "execution_count": 5,
   "id": "088544e8",
   "metadata": {},
   "outputs": [],
   "source": [
    "def save_all(list):\n",
    "    for l in list:\n",
    "        raster_path = ('np/X_' + l)\n",
    "        label_path  = ('np/y_' + l)\n",
    "\n",
    "        X = np.load(raster_path)\n",
    "        y = np.load(mask_path)\n",
    "        \n",
    "        X,y = shuffle_stets(X,y)\n",
    "\n",
    "        X_train, y_train, X_val, y_val = splitt_Stadt(X,y)\n",
    "\n",
    "        np.save('train_np/X_3.Stadt.npy',X_train)\n",
    "        np.save('train_np/y_3.Stadt.npy',y_train)\n",
    "        np.save('validation_np/X_3.Stadt.npy',X_val)\n",
    "        np.save('validation_np/y_3.Stadt.npy',y_val)"
   ]
  },
  {
   "cell_type": "code",
   "execution_count": 8,
   "id": "542cff37",
   "metadata": {},
   "outputs": [],
   "source": [
    "list = ['Stadt1.npy', 'Stadt2.npy', 'Stadt3.npy', 'Stadt4.npy']"
   ]
  },
  {
   "cell_type": "code",
   "execution_count": 9,
   "id": "74eecd7b",
   "metadata": {},
   "outputs": [
    {
     "ename": "NameError",
     "evalue": "name 'mask_path' is not defined",
     "output_type": "error",
     "traceback": [
      "\u001b[0;31m---------------------------------------------------------------------------\u001b[0m",
      "\u001b[0;31mNameError\u001b[0m                                 Traceback (most recent call last)",
      "\u001b[0;32m<ipython-input-9-2a8c03373195>\u001b[0m in \u001b[0;36m<module>\u001b[0;34m\u001b[0m\n\u001b[0;32m----> 1\u001b[0;31m \u001b[0msave_all\u001b[0m\u001b[0;34m(\u001b[0m\u001b[0mlist\u001b[0m\u001b[0;34m)\u001b[0m\u001b[0;34m\u001b[0m\u001b[0;34m\u001b[0m\u001b[0m\n\u001b[0m",
      "\u001b[0;32m<ipython-input-5-bd1a9113ebfb>\u001b[0m in \u001b[0;36msave_all\u001b[0;34m(list)\u001b[0m\n\u001b[1;32m      5\u001b[0m \u001b[0;34m\u001b[0m\u001b[0m\n\u001b[1;32m      6\u001b[0m         \u001b[0mX\u001b[0m \u001b[0;34m=\u001b[0m \u001b[0mnp\u001b[0m\u001b[0;34m.\u001b[0m\u001b[0mload\u001b[0m\u001b[0;34m(\u001b[0m\u001b[0mraster_path\u001b[0m\u001b[0;34m)\u001b[0m\u001b[0;34m\u001b[0m\u001b[0;34m\u001b[0m\u001b[0m\n\u001b[0;32m----> 7\u001b[0;31m         \u001b[0my\u001b[0m \u001b[0;34m=\u001b[0m \u001b[0mnp\u001b[0m\u001b[0;34m.\u001b[0m\u001b[0mload\u001b[0m\u001b[0;34m(\u001b[0m\u001b[0mmask_path\u001b[0m\u001b[0;34m)\u001b[0m\u001b[0;34m\u001b[0m\u001b[0;34m\u001b[0m\u001b[0m\n\u001b[0m\u001b[1;32m      8\u001b[0m \u001b[0;34m\u001b[0m\u001b[0m\n\u001b[1;32m      9\u001b[0m         \u001b[0mX\u001b[0m\u001b[0;34m,\u001b[0m\u001b[0my\u001b[0m \u001b[0;34m=\u001b[0m \u001b[0mshuffle_stets\u001b[0m\u001b[0;34m(\u001b[0m\u001b[0mX\u001b[0m\u001b[0;34m,\u001b[0m\u001b[0my\u001b[0m\u001b[0;34m)\u001b[0m\u001b[0;34m\u001b[0m\u001b[0;34m\u001b[0m\u001b[0m\n",
      "\u001b[0;31mNameError\u001b[0m: name 'mask_path' is not defined"
     ]
    }
   ],
   "source": [
    "save_all(list)"
   ]
  },
  {
   "cell_type": "code",
   "execution_count": null,
   "id": "6fea5f72",
   "metadata": {},
   "outputs": [],
   "source": []
  }
 ],
 "metadata": {
  "kernelspec": {
   "display_name": "Python 3",
   "language": "python",
   "name": "python3"
  },
  "language_info": {
   "codemirror_mode": {
    "name": "ipython",
    "version": 3
   },
   "file_extension": ".py",
   "mimetype": "text/x-python",
   "name": "python",
   "nbconvert_exporter": "python",
   "pygments_lexer": "ipython3",
   "version": "3.6.9"
  }
 },
 "nbformat": 4,
 "nbformat_minor": 5
}
